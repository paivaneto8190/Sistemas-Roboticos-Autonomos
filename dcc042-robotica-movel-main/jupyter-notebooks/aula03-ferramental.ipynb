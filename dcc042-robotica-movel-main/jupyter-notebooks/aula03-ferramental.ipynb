{
 "cells": [
  {
   "cell_type": "markdown",
   "metadata": {},
   "source": [
    "# Python"
   ]
  },
  {
   "cell_type": "code",
   "execution_count": 1,
   "metadata": {},
   "outputs": [],
   "source": [
    "def foo(choice):\n",
    "    if choice:        \n",
    "        return \"Oi, Mundo\"\n",
    "    else:\n",
    "        return 3.1415"
   ]
  },
  {
   "cell_type": "code",
   "execution_count": 2,
   "metadata": {},
   "outputs": [
    {
     "data": {
      "text/plain": [
       "3.1415"
      ]
     },
     "execution_count": 2,
     "metadata": {},
     "output_type": "execute_result"
    }
   ],
   "source": [
    "foo(0)"
   ]
  },
  {
   "cell_type": "code",
   "execution_count": 3,
   "metadata": {},
   "outputs": [
    {
     "data": {
      "text/plain": [
       "'Oi, Mundo'"
      ]
     },
     "execution_count": 3,
     "metadata": {},
     "output_type": "execute_result"
    }
   ],
   "source": [
    "foo(1)"
   ]
  },
  {
   "cell_type": "code",
   "execution_count": 4,
   "metadata": {},
   "outputs": [
    {
     "name": "stdout",
     "output_type": "stream",
     "text": [
      "Oi, Mundo\n",
      "3.1415\n"
     ]
    }
   ],
   "source": [
    "a = foo(True)\n",
    "print(a)\n",
    "\n",
    "a = foo(False)\n",
    "print(a)"
   ]
  },
  {
   "cell_type": "code",
   "execution_count": 5,
   "metadata": {},
   "outputs": [],
   "source": [
    "# List\n",
    "a = ['spam', 'eggs', 100, 1234]"
   ]
  },
  {
   "cell_type": "code",
   "execution_count": 6,
   "metadata": {},
   "outputs": [
    {
     "name": "stdout",
     "output_type": "stream",
     "text": [
      "spam\n",
      "1234\n"
     ]
    }
   ],
   "source": [
    "# Acessando uma posição específica (similar a um Array)\n",
    "x = a[0]\n",
    "print(x)\n",
    "\n",
    "x = a[3]\n",
    "print(x)"
   ]
  },
  {
   "cell_type": "code",
   "execution_count": 7,
   "metadata": {},
   "outputs": [
    {
     "data": {
      "text/plain": [
       "100"
      ]
     },
     "execution_count": 7,
     "metadata": {},
     "output_type": "execute_result"
    }
   ],
   "source": [
    "# Índice reverso a partir do final (-1) do vetor \n",
    "a[-2]"
   ]
  },
  {
   "cell_type": "code",
   "execution_count": 8,
   "metadata": {},
   "outputs": [
    {
     "data": {
      "text/plain": [
       "['eggs', 100]"
      ]
     },
     "execution_count": 8,
     "metadata": {},
     "output_type": "execute_result"
    }
   ],
   "source": [
    "# Slicing - Intervalo semi-aberto: [first, last)\n",
    "a[1:-1]"
   ]
  },
  {
   "cell_type": "code",
   "execution_count": 9,
   "metadata": {},
   "outputs": [
    {
     "name": "stdout",
     "output_type": "stream",
     "text": [
      "[True, 'spam', 'eggs', 100, 1234, 999]\n"
     ]
    }
   ],
   "source": [
    "a.insert(0, True)\n",
    "a.append(999)\n",
    "\n",
    "print(a)"
   ]
  },
  {
   "cell_type": "code",
   "execution_count": 10,
   "metadata": {},
   "outputs": [
    {
     "data": {
      "text/plain": [
       "{'jack': 4098, 'sape': 4139}"
      ]
     },
     "execution_count": 10,
     "metadata": {},
     "output_type": "execute_result"
    }
   ],
   "source": [
    "# Dictionary (coleção de Chave/Valor)\n",
    "tel = {'jack': 4098, 'sape': 4139}\n",
    "tel"
   ]
  },
  {
   "cell_type": "code",
   "execution_count": 11,
   "metadata": {},
   "outputs": [
    {
     "data": {
      "text/plain": [
       "dict_keys(['jack', 'sape'])"
      ]
     },
     "execution_count": 11,
     "metadata": {},
     "output_type": "execute_result"
    }
   ],
   "source": [
    "tel.keys()"
   ]
  },
  {
   "cell_type": "code",
   "execution_count": 12,
   "metadata": {},
   "outputs": [
    {
     "data": {
      "text/plain": [
       "dict_values([4098, 4139])"
      ]
     },
     "execution_count": 12,
     "metadata": {},
     "output_type": "execute_result"
    }
   ],
   "source": [
    "tel.values()"
   ]
  },
  {
   "cell_type": "code",
   "execution_count": 13,
   "metadata": {},
   "outputs": [
    {
     "name": "stdout",
     "output_type": "stream",
     "text": [
      "False\n",
      "True\n",
      "{'jack': 4098, 'sape': 4139, 'guido': 9999}\n",
      "9999\n"
     ]
    }
   ],
   "source": [
    "print('guido' in tel)\n",
    "\n",
    "tel['guido'] = 9999\n",
    "\n",
    "print('guido' in tel)\n",
    "      \n",
    "print(tel)\n",
    "\n",
    "print(tel['guido'])"
   ]
  },
  {
   "cell_type": "code",
   "execution_count": 14,
   "metadata": {
    "scrolled": true
   },
   "outputs": [
    {
     "name": "stdout",
     "output_type": "stream",
     "text": [
      "cat 3\n",
      "window 6\n",
      "defenestrate 12\n"
     ]
    }
   ],
   "source": [
    "a = ['cat', 'window', 'defenestrate']\n",
    "for x in a:\n",
    "    print(x, len(x))"
   ]
  },
  {
   "cell_type": "code",
   "execution_count": 15,
   "metadata": {},
   "outputs": [
    {
     "data": {
      "text/plain": [
       "[1, 2, 3, 4]"
      ]
     },
     "execution_count": 15,
     "metadata": {},
     "output_type": "execute_result"
    }
   ],
   "source": [
    "list(range(1, 5))"
   ]
  },
  {
   "cell_type": "code",
   "execution_count": 16,
   "metadata": {},
   "outputs": [
    {
     "data": {
      "text/plain": [
       "[1, 3, 5, 7, 9]"
      ]
     },
     "execution_count": 16,
     "metadata": {},
     "output_type": "execute_result"
    }
   ],
   "source": [
    "list(range(1, 10, 2))"
   ]
  },
  {
   "cell_type": "code",
   "execution_count": 17,
   "metadata": {},
   "outputs": [
    {
     "data": {
      "text/plain": [
       "[5, 4, 3, 2]"
      ]
     },
     "execution_count": 17,
     "metadata": {},
     "output_type": "execute_result"
    }
   ],
   "source": [
    "list(range(5, 1, -1))"
   ]
  },
  {
   "cell_type": "code",
   "execution_count": 18,
   "metadata": {},
   "outputs": [
    {
     "name": "stdout",
     "output_type": "stream",
     "text": [
      "6\n"
     ]
    }
   ],
   "source": [
    "def somatorio(*args):\n",
    "    soma = 0\n",
    "    for n in args:\n",
    "        soma += n\n",
    "    return soma\n",
    "\n",
    "print(somatorio(1, 2, 3))"
   ]
  },
  {
   "cell_type": "code",
   "execution_count": 19,
   "metadata": {},
   "outputs": [
    {
     "name": "stdout",
     "output_type": "stream",
     "text": [
      "Nome: João\n",
      "Sobrenome: Silva\n",
      "Idade: 18\n"
     ]
    }
   ],
   "source": [
    "def print_info(**kwargs):  \n",
    "    for key, value in kwargs.items(): \n",
    "        print(\"%s: %s\" % (key, value)) \n",
    "  \n",
    "print_info(Nome=\"João\", Sobrenome=\"Silva\", Idade=18) "
   ]
  },
  {
   "cell_type": "markdown",
   "metadata": {},
   "source": [
    "# CoppeliaSim"
   ]
  },
  {
   "cell_type": "markdown",
   "metadata": {},
   "source": [
    "## Configuração"
   ]
  },
  {
   "cell_type": "markdown",
   "metadata": {},
   "source": [
    "### Cliente (seu programa)\n",
    "\n",
    "- Colocar os seguintes arquivos na mesma pasta do seu script\n",
    "    - sim.py        : programming\\remoteApiBindings\\python\\python\n",
    "    - simConst.py   : programming\\remoteApiBindings\\python\\python\n",
    "    - remoteApi.dll : programming\\remoteApiBindings\\lib\\lib\\Windows (de acordo com sua plataforma)\n",
    "    \n",
    "### Servidor (CoppeliaSim)\n",
    "\n",
    "- Adicionar o seguinte comando em algum child-script (por exemplo, no mainScript ou de um robô)\n",
    "\n",
    "```python\n",
    "simRemoteApi.start(19999)\n",
    "```\n",
    "\n",
    "- Esse comando deve ser executado uma única vez, durante a inicialização!\n",
    "- Você também pode usar a porta 19997 do 'continuous remote API server services' (remoteApiConnections.txt)\n",
    "- Finalmente, a simulação deve ser iniciada e o script executado\n",
    "\n",
    "### Remote API functions (Python)\n",
    "\n",
    "https://www.coppeliarobotics.com/helpFiles/en/remoteApiFunctionsPython.htm"
   ]
  },
  {
   "cell_type": "code",
   "execution_count": 31,
   "metadata": {},
   "outputs": [],
   "source": [
    "try:\n",
    "    import sim\n",
    "except:\n",
    "    print ('--------------------------------------------------------------')\n",
    "    print ('\"sim.py\" could not be imported. This means very probably that')\n",
    "    print ('either \"sim.py\" or the remoteApi library could not be found.')\n",
    "    print ('Make sure both are in the same folder as this file,')\n",
    "    print ('or appropriately adjust the file \"sim.py\"')\n",
    "    print ('--------------------------------------------------------------')\n",
    "    print ('')\n",
    "\n",
    "import time"
   ]
  },
  {
   "cell_type": "code",
   "execution_count": 32,
   "metadata": {},
   "outputs": [
    {
     "name": "stdout",
     "output_type": "stream",
     "text": [
      "Program started\n",
      "Connected to remote API server\n",
      "Program ended\n"
     ]
    }
   ],
   "source": [
    "####################################################################################\n",
    "#                                                                                  #\n",
    "#                 LEMBRE-SE QUE A SIMULAÇÃO DEVE ESTAR EM EXECUÇÃO!                #\n",
    "#                                                                                  #\n",
    "####################################################################################\n",
    "\n",
    "print ('Program started')\n",
    "sim.simxFinish(-1) # just in case, close all opened connections\n",
    "clientID=sim.simxStart('127.0.0.1',19999,True,True,5000,5) # Connect to CoppeliaSim\n",
    "#clientID=sim.simxStart('127.0.0.1',19997,True,True,5000,5) # Connect to CoppeliaSim\n",
    "\n",
    "if clientID!=-1:\n",
    "    print ('Connected to remote API server')\n",
    "\n",
    "    # Now close the connection to CoppeliaSim:\n",
    "    sim.simxFinish(clientID)\n",
    "    \n",
    "else:\n",
    "    print ('Failed connecting to remote API server')\n",
    "    \n",
    "print ('Program ended')"
   ]
  },
  {
   "cell_type": "markdown",
   "metadata": {},
   "source": [
    "## Exemplo 1 (simpleTest.py)"
   ]
  },
  {
   "cell_type": "code",
   "execution_count": 33,
   "metadata": {},
   "outputs": [
    {
     "name": "stdout",
     "output_type": "stream",
     "text": [
      "Program started\n",
      "Connected to remote API server\n",
      "Number of objects in the scene:  86\n",
      "Mouse position x:  329\n",
      "Mouse position x:  329\n",
      "Mouse position x:  329\n",
      "Mouse position x:  329\n",
      "Mouse position x:  329\n",
      "Mouse position x:  329\n",
      "Mouse position x:  329\n",
      "Mouse position x:  329\n",
      "Mouse position x:  329\n",
      "Mouse position x:  329\n",
      "Mouse position x:  329\n",
      "Mouse position x:  329\n",
      "Mouse position x:  329\n",
      "Mouse position x:  329\n",
      "Mouse position x:  329\n",
      "Mouse position x:  329\n",
      "Mouse position x:  329\n",
      "Mouse position x:  329\n",
      "Mouse position x:  329\n",
      "Mouse position x:  329\n",
      "Mouse position x:  329\n",
      "Mouse position x:  329\n",
      "Mouse position x:  329\n",
      "Mouse position x:  329\n",
      "Mouse position x:  329\n",
      "Mouse position x:  329\n",
      "Mouse position x:  329\n",
      "Mouse position x:  329\n",
      "Mouse position x:  329\n",
      "Mouse position x:  329\n",
      "Mouse position x:  329\n",
      "Mouse position x:  329\n",
      "Mouse position x:  329\n",
      "Mouse position x:  329\n",
      "Mouse position x:  329\n",
      "Mouse position x:  329\n",
      "Mouse position x:  329\n",
      "Mouse position x:  329\n",
      "Mouse position x:  329\n",
      "Mouse position x:  329\n",
      "Mouse position x:  329\n",
      "Mouse position x:  329\n",
      "Mouse position x:  329\n",
      "Mouse position x:  329\n",
      "Mouse position x:  329\n",
      "Mouse position x:  329\n",
      "Mouse position x:  329\n",
      "Mouse position x:  329\n",
      "Mouse position x:  329\n",
      "Mouse position x:  329\n",
      "Mouse position x:  329\n",
      "Mouse position x:  329\n",
      "Mouse position x:  329\n",
      "Mouse position x:  329\n",
      "Mouse position x:  329\n",
      "Mouse position x:  329\n",
      "Mouse position x:  329\n",
      "Mouse position x:  329\n",
      "Mouse position x:  329\n",
      "Mouse position x:  329\n",
      "Mouse position x:  329\n",
      "Mouse position x:  329\n",
      "Mouse position x:  329\n",
      "Mouse position x:  329\n",
      "Mouse position x:  329\n",
      "Mouse position x:  329\n",
      "Mouse position x:  329\n",
      "Mouse position x:  329\n",
      "Mouse position x:  329\n",
      "Mouse position x:  329\n",
      "Mouse position x:  329\n",
      "Mouse position x:  329\n",
      "Mouse position x:  329\n",
      "Mouse position x:  329\n",
      "Mouse position x:  329\n",
      "Mouse position x:  329\n",
      "Mouse position x:  329\n",
      "Mouse position x:  329\n",
      "Mouse position x:  329\n",
      "Mouse position x:  329\n",
      "Mouse position x:  329\n",
      "Mouse position x:  329\n",
      "Mouse position x:  329\n",
      "Mouse position x:  329\n",
      "Mouse position x:  329\n",
      "Mouse position x:  329\n",
      "Mouse position x:  329\n",
      "Mouse position x:  329\n",
      "Mouse position x:  329\n",
      "Mouse position x:  329\n",
      "Mouse position x:  329\n",
      "Mouse position x:  329\n",
      "Mouse position x:  329\n",
      "Mouse position x:  329\n",
      "Mouse position x:  329\n",
      "Mouse position x:  329\n",
      "Mouse position x:  329\n",
      "Mouse position x:  329\n",
      "Mouse position x:  329\n",
      "Mouse position x:  329\n",
      "Mouse position x:  329\n",
      "Mouse position x:  329\n",
      "Mouse position x:  329\n",
      "Mouse position x:  329\n",
      "Mouse position x:  329\n",
      "Mouse position x:  329\n",
      "Mouse position x:  329\n",
      "Mouse position x:  329\n",
      "Mouse position x:  329\n",
      "Mouse position x:  329\n",
      "Mouse position x:  329\n",
      "Mouse position x:  329\n",
      "Mouse position x:  329\n",
      "Mouse position x:  329\n",
      "Mouse position x:  329\n",
      "Mouse position x:  329\n",
      "Mouse position x:  329\n",
      "Mouse position x:  329\n",
      "Mouse position x:  329\n",
      "Mouse position x:  329\n",
      "Mouse position x:  329\n",
      "Mouse position x:  329\n",
      "Mouse position x:  329\n",
      "Mouse position x:  329\n",
      "Mouse position x:  329\n",
      "Mouse position x:  329\n",
      "Mouse position x:  329\n",
      "Mouse position x:  329\n",
      "Mouse position x:  329\n",
      "Mouse position x:  329\n",
      "Mouse position x:  628\n",
      "Mouse position x:  628\n",
      "Mouse position x:  628\n",
      "Mouse position x:  628\n",
      "Mouse position x:  628\n",
      "Mouse position x:  628\n",
      "Mouse position x:  628\n",
      "Mouse position x:  566\n",
      "Mouse position x:  566\n",
      "Mouse position x:  566\n",
      "Mouse position x:  668\n",
      "Mouse position x:  668\n",
      "Mouse position x:  668\n",
      "Mouse position x:  710\n",
      "Mouse position x:  710\n",
      "Mouse position x:  710\n",
      "Mouse position x:  710\n",
      "Mouse position x:  710\n",
      "Mouse position x:  710\n",
      "Mouse position x:  710\n",
      "Mouse position x:  710\n",
      "Mouse position x:  710\n",
      "Mouse position x:  710\n",
      "Mouse position x:  710\n",
      "Mouse position x:  710\n",
      "Mouse position x:  710\n",
      "Mouse position x:  710\n",
      "Mouse position x:  710\n",
      "Mouse position x:  710\n",
      "Mouse position x:  710\n",
      "Mouse position x:  710\n",
      "Mouse position x:  710\n",
      "Mouse position x:  710\n",
      "Mouse position x:  710\n",
      "Mouse position x:  710\n",
      "Mouse position x:  710\n",
      "Mouse position x:  710\n",
      "Mouse position x:  710\n",
      "Mouse position x:  710\n",
      "Mouse position x:  686\n",
      "Mouse position x:  686\n",
      "Mouse position x:  686\n",
      "Mouse position x:  639\n",
      "Mouse position x:  639\n",
      "Mouse position x:  639\n",
      "Mouse position x:  597\n",
      "Mouse position x:  597\n",
      "Mouse position x:  597\n",
      "Mouse position x:  568\n",
      "Mouse position x:  568\n",
      "Mouse position x:  568\n",
      "Mouse position x:  566\n",
      "Mouse position x:  566\n",
      "Mouse position x:  566\n",
      "Mouse position x:  566\n",
      "Mouse position x:  557\n",
      "Mouse position x:  557\n",
      "Mouse position x:  557\n",
      "Mouse position x:  550\n",
      "Mouse position x:  550\n",
      "Mouse position x:  550\n",
      "Mouse position x:  547\n",
      "Mouse position x:  547\n",
      "Mouse position x:  547\n",
      "Mouse position x:  529\n",
      "Mouse position x:  529\n",
      "Mouse position x:  529\n",
      "Mouse position x:  529\n",
      "Mouse position x:  529\n",
      "Mouse position x:  529\n",
      "Mouse position x:  529\n",
      "Mouse position x:  529\n",
      "Mouse position x:  529\n",
      "Mouse position x:  529\n",
      "Mouse position x:  529\n",
      "Mouse position x:  529\n",
      "Mouse position x:  529\n",
      "Mouse position x:  529\n",
      "Mouse position x:  529\n",
      "Mouse position x:  529\n",
      "Mouse position x:  529\n",
      "Mouse position x:  529\n",
      "Mouse position x:  529\n",
      "Mouse position x:  529\n",
      "Mouse position x:  529\n",
      "Mouse position x:  529\n",
      "Mouse position x:  529\n",
      "Mouse position x:  529\n",
      "Mouse position x:  529\n",
      "Mouse position x:  529\n",
      "Mouse position x:  529\n",
      "Mouse position x:  529\n",
      "Mouse position x:  529\n",
      "Mouse position x:  529\n",
      "Mouse position x:  529\n",
      "Mouse position x:  529\n",
      "Mouse position x:  529\n",
      "Mouse position x:  529\n",
      "Mouse position x:  529\n",
      "Mouse position x:  529\n",
      "Mouse position x:  529\n",
      "Mouse position x:  529\n",
      "Mouse position x:  529\n",
      "Mouse position x:  529\n",
      "Mouse position x:  529\n",
      "Mouse position x:  529\n",
      "Mouse position x:  517\n",
      "Mouse position x:  517\n",
      "Mouse position x:  517\n",
      "Mouse position x:  476\n",
      "Mouse position x:  476\n",
      "Mouse position x:  476\n",
      "Mouse position x:  450\n",
      "Mouse position x:  450\n",
      "Mouse position x:  450\n",
      "Mouse position x:  431\n",
      "Mouse position x:  431\n",
      "Mouse position x:  431\n",
      "Mouse position x:  426\n",
      "Mouse position x:  426\n",
      "Mouse position x:  426\n",
      "Mouse position x:  425\n",
      "Mouse position x:  425\n",
      "Mouse position x:  425\n",
      "Mouse position x:  425\n",
      "Mouse position x:  416\n",
      "Mouse position x:  416\n",
      "Mouse position x:  416\n",
      "Mouse position x:  405\n",
      "Mouse position x:  405\n",
      "Mouse position x:  405\n",
      "Mouse position x:  401\n",
      "Mouse position x:  401\n",
      "Mouse position x:  401\n",
      "Mouse position x:  401\n",
      "Mouse position x:  401\n",
      "Mouse position x:  401\n",
      "Mouse position x:  401\n",
      "Mouse position x:  401\n",
      "Mouse position x:  401\n",
      "Mouse position x:  401\n",
      "Mouse position x:  401\n",
      "Mouse position x:  401\n",
      "Mouse position x:  398\n",
      "Mouse position x:  398\n",
      "Mouse position x:  398\n",
      "Mouse position x:  398\n",
      "Mouse position x:  386\n",
      "Mouse position x:  386\n",
      "Mouse position x:  386\n",
      "Mouse position x:  386\n",
      "Mouse position x:  380\n",
      "Mouse position x:  380\n",
      "Mouse position x:  380\n",
      "Mouse position x:  380\n",
      "Mouse position x:  380\n",
      "Mouse position x:  380\n",
      "Mouse position x:  380\n",
      "Mouse position x:  380\n",
      "Mouse position x:  380\n",
      "Mouse position x:  377\n",
      "Mouse position x:  377\n",
      "Mouse position x:  377\n",
      "Mouse position x:  364\n",
      "Mouse position x:  364\n",
      "Mouse position x:  364\n",
      "Mouse position x:  350\n",
      "Mouse position x:  350\n",
      "Mouse position x:  350\n",
      "Mouse position x:  350\n",
      "Mouse position x:  344\n",
      "Mouse position x:  344\n",
      "Mouse position x:  344\n",
      "Mouse position x:  342\n",
      "Mouse position x:  342\n",
      "Mouse position x:  342\n",
      "Mouse position x:  332\n",
      "Mouse position x:  332\n",
      "Mouse position x:  332\n",
      "Mouse position x:  326\n",
      "Mouse position x:  326\n",
      "Mouse position x:  326\n",
      "Mouse position x:  325\n",
      "Mouse position x:  325\n",
      "Mouse position x:  325\n",
      "Mouse position x:  325\n",
      "Program ended\n"
     ]
    }
   ],
   "source": [
    "####################################################################################\n",
    "#                                                                                  #\n",
    "#                 LEMBRE-SE QUE A SIMULAÇÃO DEVE ESTAR EM EXECUÇÃO!                #\n",
    "#                                                                                  #\n",
    "####################################################################################\n",
    "\n",
    "print ('Program started')\n",
    "sim.simxFinish(-1) # just in case, close all opened connections\n",
    "clientID=sim.simxStart('127.0.0.1',19999,True,True,5000,5) # Connect to CoppeliaSim\n",
    "\n",
    "if clientID!=-1:\n",
    "    print ('Connected to remote API server')\n",
    "\n",
    "    # Now try to retrieve data in a blocking fashion (i.e. a service call):\n",
    "    res,objs=sim.simxGetObjects(clientID,sim.sim_handle_all,sim.simx_opmode_blocking)\n",
    "    if res==sim.simx_return_ok:\n",
    "        print ('Number of objects in the scene: ',len(objs))\n",
    "    else:\n",
    "        print ('Remote API function call returned with error code: ',res)\n",
    "\n",
    "    time.sleep(2)\n",
    "\n",
    "    # Now retrieve streaming data (i.e. in a non-blocking fashion):\n",
    "    startTime=time.time()\n",
    "    sim.simxGetIntegerParameter(clientID,sim.sim_intparam_mouse_x,sim.simx_opmode_streaming) # Initialize streaming\n",
    "    while time.time()-startTime < 5:\n",
    "        returnCode,data=sim.simxGetIntegerParameter(clientID,sim.sim_intparam_mouse_x,sim.simx_opmode_buffer) # Try to retrieve the streamed data\n",
    "        if returnCode==sim.simx_return_ok: # After initialization of streaming, it will take a few ms before the first value arrives, so check the return code\n",
    "            print ('Mouse position x: ',data) # Mouse position x is actualized when the cursor is over CoppeliaSim's window\n",
    "        time.sleep(0.005)\n",
    "\n",
    "    # Now send some data to CoppeliaSim in a non-blocking fashion:\n",
    "    sim.simxAddStatusbarMessage(clientID,'Hello CoppeliaSim!',sim.simx_opmode_oneshot)\n",
    "\n",
    "    # Before closing the connection to CoppeliaSim, make sure that the last command sent out had time to arrive. You can guarantee this with (for example):\n",
    "    sim.simxGetPingTime(clientID)\n",
    "\n",
    "    # Now close the connection to CoppeliaSim:\n",
    "    sim.simxFinish(clientID)\n",
    "else:\n",
    "    print ('Failed connecting to remote API server')\n",
    "    \n",
    "print ('Program ended')"
   ]
  },
  {
   "cell_type": "markdown",
   "metadata": {},
   "source": [
    "## Exemplo 2 (Pioneer)"
   ]
  },
  {
   "cell_type": "code",
   "execution_count": 34,
   "metadata": {},
   "outputs": [],
   "source": [
    "import numpy as np\n",
    "import matplotlib.pyplot as plt\n",
    "\n",
    "import math\n",
    "\n",
    "'''\n",
    "readSensorData - It will try to capture the range and angle data from the simulator.\n",
    "                 The request for the range data is sent in streaming mode to force\n",
    "                 it to sync with the angle data request which acts as a mutex.\n",
    "\n",
    "inputs:\n",
    "    -clientId: simulator client id obtained through a successfull connection with the simulator.\n",
    "    -range_data_signal_id: string containing the range data signal pipe name.\n",
    "    -angle_data_signal_id: string containing the angle data signal pipe name.\n",
    "outputs:\n",
    "    -returns None if no data is recovered.\n",
    "    -returns two arrays, one with data range and the other with their angles, if data was \n",
    "    retrieved successfully.\n",
    "'''\n",
    "def readSensorData(clientId=-1, \n",
    "                    range_data_signal_id=\"hokuyo_range_data\", \n",
    "                    angle_data_signal_id=\"hokuyo_angle_data\"):\n",
    "\n",
    "    # the first call should be non-blocking to avoid getting out-of-sync angle data\n",
    "    returnCodeRanges, string_range_data = sim.simxGetStringSignal(clientId, range_data_signal_id, sim.simx_opmode_streaming)\n",
    "\n",
    "    # the second call should block to avoid out-of-sync scenarios\n",
    "    # between your python script and the simulator's main loop\n",
    "    # (your script may be slower than the simulator's main loop, thus\n",
    "    # slowing down data processing)\n",
    "    returnCodeAngles, string_angle_data = sim.simxGetStringSignal(clientId, angle_data_signal_id, sim.simx_opmode_blocking)\n",
    "\n",
    "    # check the if both data were obtained correctly\n",
    "    if returnCodeRanges == 0 and returnCodeAngles == 0:\n",
    "        # unpack data from range and sensor messages\n",
    "        raw_range_data = sim.simxUnpackFloats(string_range_data)\n",
    "        raw_angle_data = sim.simxUnpackFloats(string_angle_data)\n",
    "\n",
    "        return raw_range_data, raw_angle_data\n",
    "\n",
    "    # return none in case were nothing was gotten from the simulator\n",
    "    return None\n",
    "\n",
    "\n",
    "def draw_laser_data(laser_data, max_sensor_range=5):\n",
    "    \n",
    "    fig = plt.figure(figsize=(6,6), dpi=100)\n",
    "    ax = fig.add_subplot(111, aspect='equal')\n",
    "        \n",
    "    for i in range(len(laser_data)):\n",
    "        ang, dist = laser_data[i]\n",
    "        \n",
    "        # Quando o feixe não acerta nada, retorna o valor máximo (definido na simulação)\n",
    "        # Logo, usar um pequeno limiar do máximo para considerar a leitura\n",
    "        if (max_sensor_range - dist) > 0.1:\n",
    "            x = dist * np.cos(ang)\n",
    "            y = dist * np.sin(ang)\n",
    "            c = 'r'\n",
    "            if ang < 0:    \n",
    "                c = 'b'\n",
    "            ax.plot(x, y, 'o', color=c)\n",
    "\n",
    "    ax.plot(0, 0, 'k>', markersize=10)\n",
    "        \n",
    "    ax.grid()\n",
    "    ax.set_xlim([-max_sensor_range, max_sensor_range])\n",
    "    ax.set_ylim([-max_sensor_range, max_sensor_range])"
   ]
  },
  {
   "cell_type": "code",
   "execution_count": 36,
   "metadata": {},
   "outputs": [
    {
     "name": "stdout",
     "output_type": "stream",
     "text": [
      "Program started\n",
      "Connected to remote API server\n",
      "[[-1.57079637  2.13040018]\n",
      " [-1.56785512  2.12704253]\n",
      " [-1.5648967   2.12081432]\n",
      " ...\n",
      " [ 1.5648967   4.20751667]\n",
      " [ 1.56785512  4.20191717]\n",
      " [ 1.57079637  4.21425724]]\n",
      "Pos:  [-0.7447638511657715, -2.376441478729248, 0.13864468038082123]\n",
      "Program ended\n"
     ]
    },
    {
     "data": {
      "image/png": "[encoded data removed]",
      "text/plain": [
       "<Figure size 600x600 with 1 Axes>"
      ]
     },
     "metadata": {
      "needs_background": "light"
     },
     "output_type": "display_data"
    }
   ],
   "source": [
    "####################################################################################\n",
    "#                                                                                  #\n",
    "#                 LEMBRE-SE QUE A SIMULAÇÃO DEVE ESTAR EM EXECUÇÃO!                #\n",
    "#                                                                                  #\n",
    "####################################################################################\n",
    "\n",
    "print ('Program started')\n",
    "sim.simxFinish(-1) # just in case, close all opened connections\n",
    "clientID=sim.simxStart('127.0.0.1',19999,True,True,5000,5) # Connect to CoppeliaSim\n",
    "\n",
    "if clientID!=-1:\n",
    "    print ('Connected to remote API server')\n",
    "    \n",
    "    # Iniciando a simulação\n",
    "    # Deve usar a porta do 'continuous remote API server services' (remoteApiConnections.txt)\n",
    "    # e = sim.simxStartSimulation(clientID,sim.simx_opmode_blocking)\n",
    "\n",
    "    # Handle para o ROBÔ    \n",
    "    robotname = 'Pioneer_p3dx'\n",
    "    returnCode, robotHandle = sim.simxGetObjectHandle(clientID, robotname, sim.simx_opmode_oneshot_wait)     \n",
    "    \n",
    "    # Handle para as juntas das RODAS\n",
    "    returnCode, l_wheel = sim.simxGetObjectHandle(clientID, robotname + '_leftMotor', sim.simx_opmode_oneshot_wait)\n",
    "    returnCode, r_wheel = sim.simxGetObjectHandle(clientID, robotname + '_rightMotor', sim.simx_opmode_oneshot_wait)    \n",
    "    \n",
    "    # Handle para os dados do LASER\n",
    "    laser_range_data = \"hokuyo_range_data\"\n",
    "    laser_angle_data = \"hokuyo_angle_data\"\n",
    "    \n",
    "    # Geralmente a primeira leitura é inválida (atenção ao Operation Mode)\n",
    "    # Em loop até garantir que as leituras serão válidas\n",
    "    returnCode = 1\n",
    "    while returnCode != 0:\n",
    "        returnCode, range_data = sim.simxGetStringSignal(clientID, laser_range_data, sim.simx_opmode_streaming + 10)\n",
    "    \n",
    "    # Prosseguindo com as leituras\n",
    "    raw_range_data, raw_angle_data = readSensorData(clientID, laser_range_data, laser_angle_data)\n",
    "    laser_data = np.array([raw_angle_data, raw_range_data]).T\n",
    "    \n",
    "    print(laser_data)\n",
    "    draw_laser_data(laser_data)\n",
    "    \n",
    "    returnCode, pos = sim.simxGetObjectPosition(clientID, robotHandle, -1, sim.simx_opmode_oneshot_wait)        \n",
    "    print('Pos: ', pos)\n",
    "    \n",
    "    #raise SystemExit()\n",
    "    \n",
    "    # Dados do Pioneer\n",
    "    L = 0.381   # Metros\n",
    "    r = 0.0975  # Metros\n",
    "\n",
    "    t = 0\n",
    "    # Lembrar de habilitar o 'Real-time mode'\n",
    "    startTime=time.time()\n",
    "    lastTime = startTime\n",
    "    while t < 5:\n",
    "        \n",
    "        now = time.time()\n",
    "        dt = now - lastTime\n",
    "    \n",
    "        # Fazendo leitura do laser   \n",
    "        raw_range_data, raw_angle_data = readSensorData(clientID, laser_range_data, laser_angle_data)\n",
    "        laser_data = np.array([raw_angle_data, raw_range_data]).T\n",
    "        \n",
    "        # Velocidade básica (linear, angular)\n",
    "        v = 0\n",
    "        w = np.deg2rad(0)      \n",
    "\n",
    "        frente = int(len(laser_data)/2)\n",
    "        lado_direito = int(len(laser_data)*1/4)\n",
    "        lado_esquerdo = int(len(laser_data)*3/4)\n",
    "        \n",
    "        if laser_data[frente, 1] > 2:\n",
    "            v = .5\n",
    "            w = 0\n",
    "        elif laser_data[lado_direito, 1] > 2:\n",
    "            v = 0\n",
    "            w = np.deg2rad(-30)\n",
    "        elif laser_data[lado_esquerdo, 1] > 2:\n",
    "            v = 0\n",
    "            w = np.deg2rad(30)\n",
    "        \n",
    "        # Isso é o modelo cinemático, estudaremos detalhadamente depois!\n",
    "        wl = v/r - (w*L)/(2*r)\n",
    "        wr = v/r + (w*L)/(2*r)\n",
    "        \n",
    "        # Enviando velocidades\n",
    "        sim.simxSetJointTargetVelocity(clientID, l_wheel, wl, sim.simx_opmode_streaming + 5)\n",
    "        sim.simxSetJointTargetVelocity(clientID, r_wheel, wr, sim.simx_opmode_streaming + 5)        \n",
    "    \n",
    "        t = t + dt  \n",
    "        lastTime = now\n",
    "\n",
    "    # Parando o robô    \n",
    "    sim.simxSetJointTargetVelocity(clientID, r_wheel, 0, sim.simx_opmode_oneshot_wait)\n",
    "    sim.simxSetJointTargetVelocity(clientID, l_wheel, 0, sim.simx_opmode_oneshot_wait)        \n",
    "       \n",
    "    # Parando a simulação     \n",
    "    sim.simxStopSimulation(clientID,sim.simx_opmode_blocking)         \n",
    "        \n",
    "    # Now close the connection to CoppeliaSim:\n",
    "    sim.simxFinish(clientID)\n",
    "    \n",
    "else:\n",
    "    print ('Failed connecting to remote API server')\n",
    "    \n",
    "print ('Program ended')"
   ]
  },
  {
   "cell_type": "markdown",
   "metadata": {},
   "source": [
    "# Para praticar\n",
    "\n",
    "- Adicione novos elementos no mapa\n",
    "- Envie diferentes comandos de velocidade para o robô\n",
    "- Altere a estratégia de navegação para obter outros comportamentos\n",
    "- Altere a estratégia de navegação para utilizar os sensores ultrassônicos"
   ]
  }
 ],
 "metadata": {
  "kernelspec": {
   "display_name": "Python 3",
   "language": "python",
   "name": "python3"
  },
  "language_info": {
   "codemirror_mode": {
    "name": "ipython",
    "version": 3
   },
   "file_extension": ".py",
   "mimetype": "text/x-python",
   "name": "python",
   "nbconvert_exporter": "python",
   "pygments_lexer": "ipython3",
   "version": "3.10.5"
  }
 },
 "nbformat": 4,
 "nbformat_minor": 4
}
